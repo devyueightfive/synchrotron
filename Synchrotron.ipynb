{
 "cells": [
  {
   "cell_type": "code",
   "execution_count": 1,
   "metadata": {},
   "outputs": [
    {
     "name": "stdout",
     "output_type": "stream",
     "text": [
      "100mesh.csv\n"
     ]
    }
   ],
   "source": [
    "#list .csv files\n",
    "import os\n",
    "for file in os.listdir():\n",
    "    if \"csv\" in file:\n",
    "        print(file)"
   ]
  },
  {
   "cell_type": "code",
   "execution_count": 2,
   "metadata": {},
   "outputs": [
    {
     "data": {
      "text/html": [
       "<div>\n",
       "<style scoped>\n",
       "    .dataframe tbody tr th:only-of-type {\n",
       "        vertical-align: middle;\n",
       "    }\n",
       "\n",
       "    .dataframe tbody tr th {\n",
       "        vertical-align: top;\n",
       "    }\n",
       "\n",
       "    .dataframe thead th {\n",
       "        text-align: right;\n",
       "    }\n",
       "</style>\n",
       "<table border=\"1\" class=\"dataframe\">\n",
       "  <thead>\n",
       "    <tr style=\"text-align: right;\">\n",
       "      <th></th>\n",
       "      <th>intensity</th>\n",
       "      <th>two_theta_deg</th>\n",
       "      <th>theta_deg</th>\n",
       "      <th>theta_rad</th>\n",
       "      <th>sintheta</th>\n",
       "      <th>two_sin_theta</th>\n",
       "      <th>d-spacing</th>\n",
       "      <th>sin_squared_theta</th>\n",
       "    </tr>\n",
       "  </thead>\n",
       "  <tbody>\n",
       "    <tr>\n",
       "      <th>0</th>\n",
       "      <td>5.0</td>\n",
       "      <td>30.00</td>\n",
       "      <td>15.000</td>\n",
       "      <td>0.261799</td>\n",
       "      <td>0.258819</td>\n",
       "      <td>0.517638</td>\n",
       "      <td>2.975052</td>\n",
       "      <td>0.066987</td>\n",
       "    </tr>\n",
       "    <tr>\n",
       "      <th>1</th>\n",
       "      <td>5.1</td>\n",
       "      <td>32.50</td>\n",
       "      <td>16.250</td>\n",
       "      <td>0.283616</td>\n",
       "      <td>0.279829</td>\n",
       "      <td>0.559658</td>\n",
       "      <td>2.751680</td>\n",
       "      <td>0.078304</td>\n",
       "    </tr>\n",
       "    <tr>\n",
       "      <th>2</th>\n",
       "      <td>5.2</td>\n",
       "      <td>29.25</td>\n",
       "      <td>14.625</td>\n",
       "      <td>0.255254</td>\n",
       "      <td>0.252492</td>\n",
       "      <td>0.504983</td>\n",
       "      <td>3.049607</td>\n",
       "      <td>0.063752</td>\n",
       "    </tr>\n",
       "    <tr>\n",
       "      <th>3</th>\n",
       "      <td>5.3</td>\n",
       "      <td>33.75</td>\n",
       "      <td>16.875</td>\n",
       "      <td>0.294524</td>\n",
       "      <td>0.290285</td>\n",
       "      <td>0.580569</td>\n",
       "      <td>2.652569</td>\n",
       "      <td>0.084265</td>\n",
       "    </tr>\n",
       "    <tr>\n",
       "      <th>4</th>\n",
       "      <td>5.4</td>\n",
       "      <td>35.75</td>\n",
       "      <td>17.875</td>\n",
       "      <td>0.311978</td>\n",
       "      <td>0.306941</td>\n",
       "      <td>0.613883</td>\n",
       "      <td>2.508622</td>\n",
       "      <td>0.094213</td>\n",
       "    </tr>\n",
       "  </tbody>\n",
       "</table>\n",
       "</div>"
      ],
      "text/plain": [
       "   intensity  two_theta_deg  theta_deg  theta_rad  sintheta  two_sin_theta  \\\n",
       "0        5.0          30.00     15.000   0.261799  0.258819       0.517638   \n",
       "1        5.1          32.50     16.250   0.283616  0.279829       0.559658   \n",
       "2        5.2          29.25     14.625   0.255254  0.252492       0.504983   \n",
       "3        5.3          33.75     16.875   0.294524  0.290285       0.580569   \n",
       "4        5.4          35.75     17.875   0.311978  0.306941       0.613883   \n",
       "\n",
       "   d-spacing  sin_squared_theta  \n",
       "0   2.975052           0.066987  \n",
       "1   2.751680           0.078304  \n",
       "2   3.049607           0.063752  \n",
       "3   2.652569           0.084265  \n",
       "4   2.508622           0.094213  "
      ]
     },
     "metadata": {},
     "output_type": "display_data"
    }
   ],
   "source": [
    "# load data\n",
    "data_file = \"100mesh.csv\"\n",
    "import pandas as pd\n",
    "mesh = pd.read_csv(data_file)\n",
    "display(mesh.head())"
   ]
  },
  {
   "cell_type": "code",
   "execution_count": 3,
   "metadata": {},
   "outputs": [
    {
     "name": "stdout",
     "output_type": "stream",
     "text": [
      "intensity : min = 5.0, max = 100.0\n",
      "two_theta_deg : min = 1.0, max = 312.75\n",
      "theta_deg : min = 0.5, max = 156.375\n",
      "theta_rad : min = 0.008726646, max = 2.7292586180000002\n",
      "sintheta : min = 0.008726535, max = 0.96869158\n",
      "two_sin_theta : min = 0.017453071, max = 1.9373831609999999\n",
      "d-spacing : min = 0.794886645, max = 88.23662038\n",
      "sin_squared_theta : min = 7.62e-05, max = 0.9383633779999999\n",
      "\n",
      "index = RangeIndex(start=0, stop=951, step=1)\n"
     ]
    }
   ],
   "source": [
    "# min/max charasteristics for columns\n",
    "for column in mesh.columns:\n",
    "    print(f\"{column} : min = {mesh[column].min()}, max = {mesh[column].max()}\")\n",
    "print(f\"\\nindex = {mesh.index}\")"
   ]
  },
  {
   "cell_type": "code",
   "execution_count": 4,
   "metadata": {},
   "outputs": [
    {
     "name": "stdout",
     "output_type": "stream",
     "text": [
      "<class 'pandas.core.frame.DataFrame'>\n",
      "RangeIndex: 951 entries, 0 to 950\n",
      "Data columns (total 8 columns):\n",
      "intensity            951 non-null float64\n",
      "two_theta_deg        951 non-null float64\n",
      "theta_deg            951 non-null float64\n",
      "theta_rad            951 non-null float64\n",
      "sintheta             951 non-null float64\n",
      "two_sin_theta        951 non-null float64\n",
      "d-spacing            951 non-null float64\n",
      "sin_squared_theta    951 non-null float64\n",
      "dtypes: float64(8)\n",
      "memory usage: 59.5 KB\n"
     ]
    },
    {
     "data": {
      "text/plain": [
       "None"
      ]
     },
     "metadata": {},
     "output_type": "display_data"
    }
   ],
   "source": [
    "#dataset structure\n",
    "display(mesh.info())"
   ]
  },
  {
   "cell_type": "code",
   "execution_count": 5,
   "metadata": {},
   "outputs": [
    {
     "data": {
      "text/html": [
       "<div>\n",
       "<style scoped>\n",
       "    .dataframe tbody tr th:only-of-type {\n",
       "        vertical-align: middle;\n",
       "    }\n",
       "\n",
       "    .dataframe tbody tr th {\n",
       "        vertical-align: top;\n",
       "    }\n",
       "\n",
       "    .dataframe thead th {\n",
       "        text-align: right;\n",
       "    }\n",
       "</style>\n",
       "<table border=\"1\" class=\"dataframe\">\n",
       "  <thead>\n",
       "    <tr style=\"text-align: right;\">\n",
       "      <th></th>\n",
       "      <th>intensity</th>\n",
       "      <th>two_theta_deg</th>\n",
       "      <th>theta_deg</th>\n",
       "      <th>theta_rad</th>\n",
       "      <th>sintheta</th>\n",
       "      <th>two_sin_theta</th>\n",
       "      <th>d-spacing</th>\n",
       "      <th>sin_squared_theta</th>\n",
       "    </tr>\n",
       "  </thead>\n",
       "  <tbody>\n",
       "    <tr>\n",
       "      <th>intensity</th>\n",
       "      <td>1.000000</td>\n",
       "      <td>-0.216360</td>\n",
       "      <td>-0.216360</td>\n",
       "      <td>-0.216360</td>\n",
       "      <td>-0.280482</td>\n",
       "      <td>-0.280482</td>\n",
       "      <td>0.496481</td>\n",
       "      <td>-0.127535</td>\n",
       "    </tr>\n",
       "    <tr>\n",
       "      <th>two_theta_deg</th>\n",
       "      <td>-0.216360</td>\n",
       "      <td>1.000000</td>\n",
       "      <td>1.000000</td>\n",
       "      <td>1.000000</td>\n",
       "      <td>0.861654</td>\n",
       "      <td>0.861654</td>\n",
       "      <td>-0.421072</td>\n",
       "      <td>0.825311</td>\n",
       "    </tr>\n",
       "    <tr>\n",
       "      <th>theta_deg</th>\n",
       "      <td>-0.216360</td>\n",
       "      <td>1.000000</td>\n",
       "      <td>1.000000</td>\n",
       "      <td>1.000000</td>\n",
       "      <td>0.861654</td>\n",
       "      <td>0.861654</td>\n",
       "      <td>-0.421072</td>\n",
       "      <td>0.825311</td>\n",
       "    </tr>\n",
       "    <tr>\n",
       "      <th>theta_rad</th>\n",
       "      <td>-0.216360</td>\n",
       "      <td>1.000000</td>\n",
       "      <td>1.000000</td>\n",
       "      <td>1.000000</td>\n",
       "      <td>0.861654</td>\n",
       "      <td>0.861654</td>\n",
       "      <td>-0.421072</td>\n",
       "      <td>0.825311</td>\n",
       "    </tr>\n",
       "    <tr>\n",
       "      <th>sintheta</th>\n",
       "      <td>-0.280482</td>\n",
       "      <td>0.861654</td>\n",
       "      <td>0.861654</td>\n",
       "      <td>0.861654</td>\n",
       "      <td>1.000000</td>\n",
       "      <td>1.000000</td>\n",
       "      <td>-0.537137</td>\n",
       "      <td>0.920878</td>\n",
       "    </tr>\n",
       "    <tr>\n",
       "      <th>two_sin_theta</th>\n",
       "      <td>-0.280482</td>\n",
       "      <td>0.861654</td>\n",
       "      <td>0.861654</td>\n",
       "      <td>0.861654</td>\n",
       "      <td>1.000000</td>\n",
       "      <td>1.000000</td>\n",
       "      <td>-0.537137</td>\n",
       "      <td>0.920878</td>\n",
       "    </tr>\n",
       "    <tr>\n",
       "      <th>d-spacing</th>\n",
       "      <td>0.496481</td>\n",
       "      <td>-0.421072</td>\n",
       "      <td>-0.421072</td>\n",
       "      <td>-0.421072</td>\n",
       "      <td>-0.537137</td>\n",
       "      <td>-0.537137</td>\n",
       "      <td>1.000000</td>\n",
       "      <td>-0.309319</td>\n",
       "    </tr>\n",
       "    <tr>\n",
       "      <th>sin_squared_theta</th>\n",
       "      <td>-0.127535</td>\n",
       "      <td>0.825311</td>\n",
       "      <td>0.825311</td>\n",
       "      <td>0.825311</td>\n",
       "      <td>0.920878</td>\n",
       "      <td>0.920878</td>\n",
       "      <td>-0.309319</td>\n",
       "      <td>1.000000</td>\n",
       "    </tr>\n",
       "  </tbody>\n",
       "</table>\n",
       "</div>"
      ],
      "text/plain": [
       "                   intensity  two_theta_deg  theta_deg  theta_rad  sintheta  \\\n",
       "intensity           1.000000      -0.216360  -0.216360  -0.216360 -0.280482   \n",
       "two_theta_deg      -0.216360       1.000000   1.000000   1.000000  0.861654   \n",
       "theta_deg          -0.216360       1.000000   1.000000   1.000000  0.861654   \n",
       "theta_rad          -0.216360       1.000000   1.000000   1.000000  0.861654   \n",
       "sintheta           -0.280482       0.861654   0.861654   0.861654  1.000000   \n",
       "two_sin_theta      -0.280482       0.861654   0.861654   0.861654  1.000000   \n",
       "d-spacing           0.496481      -0.421072  -0.421072  -0.421072 -0.537137   \n",
       "sin_squared_theta  -0.127535       0.825311   0.825311   0.825311  0.920878   \n",
       "\n",
       "                   two_sin_theta  d-spacing  sin_squared_theta  \n",
       "intensity              -0.280482   0.496481          -0.127535  \n",
       "two_theta_deg           0.861654  -0.421072           0.825311  \n",
       "theta_deg               0.861654  -0.421072           0.825311  \n",
       "theta_rad               0.861654  -0.421072           0.825311  \n",
       "sintheta                1.000000  -0.537137           0.920878  \n",
       "two_sin_theta           1.000000  -0.537137           0.920878  \n",
       "d-spacing              -0.537137   1.000000          -0.309319  \n",
       "sin_squared_theta       0.920878  -0.309319           1.000000  "
      ]
     },
     "execution_count": 5,
     "metadata": {},
     "output_type": "execute_result"
    }
   ],
   "source": [
    "# columns correlation\n",
    "mesh.corr()"
   ]
  },
  {
   "cell_type": "code",
   "execution_count": 6,
   "metadata": {},
   "outputs": [
    {
     "data": {
      "text/plain": [
       "sintheta       two_sin_theta        1.000000\n",
       "two_theta_deg  theta_rad            1.000000\n",
       "sintheta       sin_squared_theta    0.920878\n",
       "two_sin_theta  sin_squared_theta    0.920878\n",
       "two_theta_deg  sintheta             0.861654\n",
       "theta_rad      sintheta             0.861654\n",
       "two_theta_deg  two_sin_theta        0.861654\n",
       "theta_rad      two_sin_theta        0.861654\n",
       "               sin_squared_theta    0.825311\n",
       "two_theta_deg  sin_squared_theta    0.825311\n",
       "dtype: float64"
      ]
     },
     "execution_count": 6,
     "metadata": {},
     "output_type": "execute_result"
    }
   ],
   "source": [
    "#find huge correlations within data (>0.8)\n",
    "corr_series=mesh.corr().abs().unstack().drop_duplicates().sort_values(ascending = False)\n",
    "\n",
    "corr_series[(corr_series<1.0)&(corr_series>0.8)]"
   ]
  },
  {
   "cell_type": "code",
   "execution_count": 7,
   "metadata": {},
   "outputs": [
    {
     "data": {
      "text/html": [
       "<div>\n",
       "<style scoped>\n",
       "    .dataframe tbody tr th:only-of-type {\n",
       "        vertical-align: middle;\n",
       "    }\n",
       "\n",
       "    .dataframe tbody tr th {\n",
       "        vertical-align: top;\n",
       "    }\n",
       "\n",
       "    .dataframe thead th {\n",
       "        text-align: right;\n",
       "    }\n",
       "</style>\n",
       "<table border=\"1\" class=\"dataframe\">\n",
       "  <thead>\n",
       "    <tr style=\"text-align: right;\">\n",
       "      <th></th>\n",
       "      <th>intensity</th>\n",
       "      <th>theta_deg</th>\n",
       "      <th>d-spacing</th>\n",
       "    </tr>\n",
       "  </thead>\n",
       "  <tbody>\n",
       "    <tr>\n",
       "      <th>0</th>\n",
       "      <td>5.0</td>\n",
       "      <td>15.000</td>\n",
       "      <td>2.975052</td>\n",
       "    </tr>\n",
       "    <tr>\n",
       "      <th>1</th>\n",
       "      <td>5.1</td>\n",
       "      <td>16.250</td>\n",
       "      <td>2.751680</td>\n",
       "    </tr>\n",
       "    <tr>\n",
       "      <th>2</th>\n",
       "      <td>5.2</td>\n",
       "      <td>14.625</td>\n",
       "      <td>3.049607</td>\n",
       "    </tr>\n",
       "    <tr>\n",
       "      <th>3</th>\n",
       "      <td>5.3</td>\n",
       "      <td>16.875</td>\n",
       "      <td>2.652569</td>\n",
       "    </tr>\n",
       "    <tr>\n",
       "      <th>4</th>\n",
       "      <td>5.4</td>\n",
       "      <td>17.875</td>\n",
       "      <td>2.508622</td>\n",
       "    </tr>\n",
       "  </tbody>\n",
       "</table>\n",
       "</div>"
      ],
      "text/plain": [
       "   intensity  theta_deg  d-spacing\n",
       "0        5.0     15.000   2.975052\n",
       "1        5.1     16.250   2.751680\n",
       "2        5.2     14.625   3.049607\n",
       "3        5.3     16.875   2.652569\n",
       "4        5.4     17.875   2.508622"
      ]
     },
     "execution_count": 7,
     "metadata": {},
     "output_type": "execute_result"
    }
   ],
   "source": [
    "mesh = mesh.drop(['two_sin_theta','two_theta_deg','sin_squared_theta','theta_rad','sintheta'],axis=1)\n",
    "mesh.head()"
   ]
  },
  {
   "cell_type": "code",
   "execution_count": 8,
   "metadata": {},
   "outputs": [
    {
     "data": {
      "text/html": [
       "<div>\n",
       "<style scoped>\n",
       "    .dataframe tbody tr th:only-of-type {\n",
       "        vertical-align: middle;\n",
       "    }\n",
       "\n",
       "    .dataframe tbody tr th {\n",
       "        vertical-align: top;\n",
       "    }\n",
       "\n",
       "    .dataframe thead th {\n",
       "        text-align: right;\n",
       "    }\n",
       "</style>\n",
       "<table border=\"1\" class=\"dataframe\">\n",
       "  <thead>\n",
       "    <tr style=\"text-align: right;\">\n",
       "      <th></th>\n",
       "      <th>intensity</th>\n",
       "      <th>theta_deg</th>\n",
       "      <th>d-spacing</th>\n",
       "    </tr>\n",
       "  </thead>\n",
       "  <tbody>\n",
       "    <tr>\n",
       "      <th>intensity</th>\n",
       "      <td>1.000000</td>\n",
       "      <td>-0.216360</td>\n",
       "      <td>0.496481</td>\n",
       "    </tr>\n",
       "    <tr>\n",
       "      <th>theta_deg</th>\n",
       "      <td>-0.216360</td>\n",
       "      <td>1.000000</td>\n",
       "      <td>-0.421072</td>\n",
       "    </tr>\n",
       "    <tr>\n",
       "      <th>d-spacing</th>\n",
       "      <td>0.496481</td>\n",
       "      <td>-0.421072</td>\n",
       "      <td>1.000000</td>\n",
       "    </tr>\n",
       "  </tbody>\n",
       "</table>\n",
       "</div>"
      ],
      "text/plain": [
       "           intensity  theta_deg  d-spacing\n",
       "intensity   1.000000  -0.216360   0.496481\n",
       "theta_deg  -0.216360   1.000000  -0.421072\n",
       "d-spacing   0.496481  -0.421072   1.000000"
      ]
     },
     "metadata": {},
     "output_type": "display_data"
    }
   ],
   "source": [
    "#check correlations\n",
    "display(mesh.corr())"
   ]
  },
  {
   "cell_type": "code",
   "execution_count": 9,
   "metadata": {},
   "outputs": [
    {
     "name": "stdout",
     "output_type": "stream",
     "text": [
      "intensity : min = 5.0, max = 100.0\n",
      "theta_deg : min = 0.5, max = 156.375\n",
      "d-spacing : min = 0.794886645, max = 88.23662038\n",
      "\n",
      "index = RangeIndex(start=0, stop=951, step=1)\n"
     ]
    }
   ],
   "source": [
    "# min/max charasteristics for columns\n",
    "for column in mesh.columns:\n",
    "    print(f\"{column} : min = {mesh[column].min()}, max = {mesh[column].max()}\")\n",
    "print(f\"\\nindex = {mesh.index}\")"
   ]
  },
  {
   "cell_type": "code",
   "execution_count": 10,
   "metadata": {},
   "outputs": [
    {
     "data": {
      "image/png": "[encoded data removed]",
      "text/plain": [
       "<Figure size 432x288 with 1 Axes>"
      ]
     },
     "metadata": {
      "needs_background": "light"
     },
     "output_type": "display_data"
    }
   ],
   "source": [
    "#Distribution intensity on theta_deg\n",
    "import matplotlib.pyplot as plt\n",
    "%matplotlib inline\n",
    "plt.scatter(x = mesh['theta_deg'],y = mesh['intensity'], label = 'Distribution intensity on theta_deg', c  = 'black', s = 0.5)\n",
    "plt.xlabel('theta_deg')\n",
    "plt.ylabel('intensity')\n",
    "plt.legend(loc='upper right')\n",
    "plt.grid()\n",
    "plt.show()"
   ]
  },
  {
   "cell_type": "code",
   "execution_count": 11,
   "metadata": {},
   "outputs": [
    {
     "data": {
      "image/png": "[encoded data removed]",
      "text/plain": [
       "<Figure size 432x288 with 1 Axes>"
      ]
     },
     "metadata": {
      "needs_background": "light"
     },
     "output_type": "display_data"
    }
   ],
   "source": [
    "#Distribution d-spacing on theta_deg\n",
    "plt.scatter(x = mesh['theta_deg'],y = mesh['d-spacing'], label = 'Distribution d-spacing on theta_deg', c  = 'black', s = 0.5)\n",
    "plt.xlabel('theta_deg')\n",
    "plt.ylabel('d-spacing')\n",
    "plt.legend(loc='upper right')\n",
    "plt.grid()\n",
    "plt.show()"
   ]
  },
  {
   "cell_type": "code",
   "execution_count": 12,
   "metadata": {},
   "outputs": [
    {
     "data": {
      "image/png": "[encoded data removed]",
      "text/plain": [
       "<Figure size 432x288 with 1 Axes>"
      ]
     },
     "metadata": {
      "needs_background": "light"
     },
     "output_type": "display_data"
    }
   ],
   "source": [
    "#Distribution d-spacing on theta_deg\n",
    "plt.scatter(x = mesh['intensity'],y = mesh['d-spacing'], label = 'Distribution d-spacing on intensity', c  = 'black', s = 0.5)\n",
    "plt.xlabel('intensity')\n",
    "plt.ylabel('d-spacing')\n",
    "plt.legend(loc='upper right')\n",
    "plt.grid()\n",
    "plt.show()"
   ]
  },
  {
   "cell_type": "code",
   "execution_count": 13,
   "metadata": {},
   "outputs": [
    {
     "name": "stdout",
     "output_type": "stream",
     "text": [
      "intensity has unifor distribution.\n",
      "intensity : min = 5.0, max = 100.0\n"
     ]
    },
    {
     "data": {
      "text/plain": [
       "<matplotlib.axes._subplots.AxesSubplot at 0x24a78151dd8>"
      ]
     },
     "execution_count": 13,
     "metadata": {},
     "output_type": "execute_result"
    },
    {
     "data": {
      "image/png": "[encoded data removed]",
      "text/plain": [
       "<Figure size 432x288 with 1 Axes>"
      ]
     },
     "metadata": {
      "needs_background": "light"
     },
     "output_type": "display_data"
    }
   ],
   "source": [
    "#histograms\n",
    "column = 'intensity'\n",
    "print(f\"{column} has unifor distribution.\")\n",
    "print(f\"{column} : min = {mesh[column].min()}, max = {mesh[column].max()}\")\n",
    "mesh[column] .hist(bins = 200)"
   ]
  },
  {
   "cell_type": "code",
   "execution_count": 14,
   "metadata": {},
   "outputs": [
    {
     "name": "stdout",
     "output_type": "stream",
     "text": [
      "d-spacing has * distribution.\n",
      "d-spacing : min = 0.794886645, max = 88.23662038\n"
     ]
    },
    {
     "data": {
      "text/plain": [
       "<matplotlib.axes._subplots.AxesSubplot at 0x24a78285a20>"
      ]
     },
     "execution_count": 14,
     "metadata": {},
     "output_type": "execute_result"
    },
    {
     "data": {
      "image/png": "[encoded data removed]",
      "text/plain": [
       "<Figure size 432x288 with 1 Axes>"
      ]
     },
     "metadata": {
      "needs_background": "light"
     },
     "output_type": "display_data"
    }
   ],
   "source": [
    "#histograms\n",
    "column = 'd-spacing'\n",
    "print(f\"{column} has * distribution.\")\n",
    "print(f\"{column} : min = {mesh[column].min()}, max = {mesh[column].max()}\")\n",
    "mesh[column] .hist(bins = 200)"
   ]
  },
  {
   "cell_type": "code",
   "execution_count": 15,
   "metadata": {},
   "outputs": [
    {
     "name": "stdout",
     "output_type": "stream",
     "text": [
      "theta_deg has * distribution.\n",
      "theta_deg : min = 0.5, max = 156.375\n"
     ]
    },
    {
     "data": {
      "text/plain": [
       "<matplotlib.axes._subplots.AxesSubplot at 0x24a784a7860>"
      ]
     },
     "execution_count": 15,
     "metadata": {},
     "output_type": "execute_result"
    },
    {
     "data": {
      "image/png": "[encoded data removed]",
      "text/plain": [
       "<Figure size 432x288 with 1 Axes>"
      ]
     },
     "metadata": {
      "needs_background": "light"
     },
     "output_type": "display_data"
    }
   ],
   "source": [
    "#histograms\n",
    "column = 'theta_deg'\n",
    "print(f\"{column} has * distribution.\")\n",
    "print(f\"{column} : min = {mesh[column].min()}, max = {mesh[column].max()}\")\n",
    "mesh[column] .hist(bins = 200)"
   ]
  },
  {
   "cell_type": "code",
   "execution_count": null,
   "metadata": {},
   "outputs": [],
   "source": []
  }
 ],
 "metadata": {
  "kernelspec": {
   "display_name": "Python 3",
   "language": "python",
   "name": "python3"
  },
  "language_info": {
   "codemirror_mode": {
    "name": "ipython",
    "version": 3
   },
   "file_extension": ".py",
   "mimetype": "text/x-python",
   "name": "python",
   "nbconvert_exporter": "python",
   "pygments_lexer": "ipython3",
   "version": "3.7.3"
  }
 },
 "nbformat": 4,
 "nbformat_minor": 2
}
