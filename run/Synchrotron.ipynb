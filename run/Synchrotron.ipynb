{
 "cells": [
  {
   "cell_type": "markdown",
   "metadata": {},
   "source": [
    "Show data"
   ]
  },
  {
   "cell_type": "code",
   "execution_count": 32,
   "metadata": {},
   "outputs": [],
   "source": [
    "import matplotlib.pyplot as plt\n",
    "%matplotlib inline"
   ]
  },
  {
   "cell_type": "code",
   "execution_count": 33,
   "metadata": {},
   "outputs": [
    {
     "name": "stdout",
     "output_type": "stream",
     "text": [
      "Files :\n",
      "100mesh.csv\n"
     ]
    }
   ],
   "source": [
    "#list .csv files\n",
    "import os\n",
    "print(\"Files :\")\n",
    "for file in os.listdir():\n",
    "    if \"csv\" in file:\n",
    "        print(file)"
   ]
  },
  {
   "cell_type": "markdown",
   "metadata": {},
   "source": [
    "Load data from file in object mesh"
   ]
  },
  {
   "cell_type": "code",
   "execution_count": 34,
   "metadata": {},
   "outputs": [
    {
     "data": {
      "text/html": [
       "<div>\n",
       "<style scoped>\n",
       "    .dataframe tbody tr th:only-of-type {\n",
       "        vertical-align: middle;\n",
       "    }\n",
       "\n",
       "    .dataframe tbody tr th {\n",
       "        vertical-align: top;\n",
       "    }\n",
       "\n",
       "    .dataframe thead th {\n",
       "        text-align: right;\n",
       "    }\n",
       "</style>\n",
       "<table border=\"1\" class=\"dataframe\">\n",
       "  <thead>\n",
       "    <tr style=\"text-align: right;\">\n",
       "      <th></th>\n",
       "      <th>intensity</th>\n",
       "      <th>two_theta_deg</th>\n",
       "      <th>theta_deg</th>\n",
       "      <th>theta_rad</th>\n",
       "      <th>sintheta</th>\n",
       "      <th>two_sin_theta</th>\n",
       "      <th>d-spacing</th>\n",
       "      <th>sin_squared_theta</th>\n",
       "    </tr>\n",
       "  </thead>\n",
       "  <tbody>\n",
       "    <tr>\n",
       "      <th>0</th>\n",
       "      <td>5.0</td>\n",
       "      <td>30.00</td>\n",
       "      <td>15.000</td>\n",
       "      <td>0.261799</td>\n",
       "      <td>0.258819</td>\n",
       "      <td>0.517638</td>\n",
       "      <td>2.975052</td>\n",
       "      <td>0.066987</td>\n",
       "    </tr>\n",
       "    <tr>\n",
       "      <th>1</th>\n",
       "      <td>5.1</td>\n",
       "      <td>32.50</td>\n",
       "      <td>16.250</td>\n",
       "      <td>0.283616</td>\n",
       "      <td>0.279829</td>\n",
       "      <td>0.559658</td>\n",
       "      <td>2.751680</td>\n",
       "      <td>0.078304</td>\n",
       "    </tr>\n",
       "    <tr>\n",
       "      <th>2</th>\n",
       "      <td>5.2</td>\n",
       "      <td>29.25</td>\n",
       "      <td>14.625</td>\n",
       "      <td>0.255254</td>\n",
       "      <td>0.252492</td>\n",
       "      <td>0.504983</td>\n",
       "      <td>3.049607</td>\n",
       "      <td>0.063752</td>\n",
       "    </tr>\n",
       "    <tr>\n",
       "      <th>3</th>\n",
       "      <td>5.3</td>\n",
       "      <td>33.75</td>\n",
       "      <td>16.875</td>\n",
       "      <td>0.294524</td>\n",
       "      <td>0.290285</td>\n",
       "      <td>0.580569</td>\n",
       "      <td>2.652569</td>\n",
       "      <td>0.084265</td>\n",
       "    </tr>\n",
       "    <tr>\n",
       "      <th>4</th>\n",
       "      <td>5.4</td>\n",
       "      <td>35.75</td>\n",
       "      <td>17.875</td>\n",
       "      <td>0.311978</td>\n",
       "      <td>0.306941</td>\n",
       "      <td>0.613883</td>\n",
       "      <td>2.508622</td>\n",
       "      <td>0.094213</td>\n",
       "    </tr>\n",
       "  </tbody>\n",
       "</table>\n",
       "</div>"
      ],
      "text/plain": [
       "   intensity  two_theta_deg  theta_deg  theta_rad  sintheta  two_sin_theta  \\\n",
       "0        5.0          30.00     15.000   0.261799  0.258819       0.517638   \n",
       "1        5.1          32.50     16.250   0.283616  0.279829       0.559658   \n",
       "2        5.2          29.25     14.625   0.255254  0.252492       0.504983   \n",
       "3        5.3          33.75     16.875   0.294524  0.290285       0.580569   \n",
       "4        5.4          35.75     17.875   0.311978  0.306941       0.613883   \n",
       "\n",
       "   d-spacing  sin_squared_theta  \n",
       "0   2.975052           0.066987  \n",
       "1   2.751680           0.078304  \n",
       "2   3.049607           0.063752  \n",
       "3   2.652569           0.084265  \n",
       "4   2.508622           0.094213  "
      ]
     },
     "metadata": {},
     "output_type": "display_data"
    }
   ],
   "source": [
    "# load data\n",
    "data_file = \"100mesh.csv\"\n",
    "import pandas as pd\n",
    "mesh = pd.read_csv(data_file)\n",
    "display(mesh.head())"
   ]
  },
  {
   "cell_type": "markdown",
   "metadata": {},
   "source": [
    "Some info about data"
   ]
  },
  {
   "cell_type": "code",
   "execution_count": 35,
   "metadata": {},
   "outputs": [
    {
     "name": "stdout",
     "output_type": "stream",
     "text": [
      "intensity : min = 5.0, max = 100.0\n",
      "two_theta_deg : min = 1.0, max = 312.75\n",
      "theta_deg : min = 0.5, max = 156.375\n",
      "theta_rad : min = 0.008726646, max = 2.7292586180000002\n",
      "sintheta : min = 0.008726535, max = 0.96869158\n",
      "two_sin_theta : min = 0.017453071, max = 1.9373831609999999\n",
      "d-spacing : min = 0.794886645, max = 88.23662038\n",
      "sin_squared_theta : min = 7.62e-05, max = 0.9383633779999999\n",
      "\n",
      "index = RangeIndex(start=0, stop=951, step=1)\n"
     ]
    }
   ],
   "source": [
    "# min/max charasteristics for columns\n",
    "for column in mesh.columns:\n",
    "    print(f\"{column} : min = {mesh[column].min()}, max = {mesh[column].max()}\")\n",
    "print(f\"\\nindex = {mesh.index}\")"
   ]
  },
  {
   "cell_type": "code",
   "execution_count": 36,
   "metadata": {},
   "outputs": [
    {
     "name": "stdout",
     "output_type": "stream",
     "text": [
      "<class 'pandas.core.frame.DataFrame'>\n",
      "RangeIndex: 951 entries, 0 to 950\n",
      "Data columns (total 8 columns):\n",
      "intensity            951 non-null float64\n",
      "two_theta_deg        951 non-null float64\n",
      "theta_deg            951 non-null float64\n",
      "theta_rad            951 non-null float64\n",
      "sintheta             951 non-null float64\n",
      "two_sin_theta        951 non-null float64\n",
      "d-spacing            951 non-null float64\n",
      "sin_squared_theta    951 non-null float64\n",
      "dtypes: float64(8)\n",
      "memory usage: 59.5 KB\n"
     ]
    },
    {
     "data": {
      "text/plain": [
       "None"
      ]
     },
     "metadata": {},
     "output_type": "display_data"
    }
   ],
   "source": [
    "#dataset structure\n",
    "display(mesh.info())"
   ]
  },
  {
   "cell_type": "code",
   "execution_count": 37,
   "metadata": {},
   "outputs": [
    {
     "ename": "AttributeError",
     "evalue": "module 'matplotlib.pyplot' has no attribute 'scatter_matrix'",
     "output_type": "error",
     "traceback": [
      "\u001b[1;31m---------------------------------------------------------------------------\u001b[0m",
      "\u001b[1;31mAttributeError\u001b[0m                            Traceback (most recent call last)",
      "\u001b[1;32m<ipython-input-37-9eaf57046477>\u001b[0m in \u001b[0;36m<module>\u001b[1;34m\u001b[0m\n\u001b[0;32m      1\u001b[0m \u001b[1;31m# pd.plotting.scatter_matrix(mesh, alpha = 1, figsize = (15, 10), s = 1, color = 'black')\u001b[0m\u001b[1;33m\u001b[0m\u001b[1;33m\u001b[0m\u001b[1;33m\u001b[0m\u001b[0m\n\u001b[1;32m----> 2\u001b[1;33m \u001b[0mplt\u001b[0m\u001b[1;33m.\u001b[0m\u001b[0mscatter_matrix\u001b[0m\u001b[1;33m(\u001b[0m\u001b[0mmesh\u001b[0m\u001b[1;33m,\u001b[0m \u001b[0malpha\u001b[0m \u001b[1;33m=\u001b[0m \u001b[1;36m1\u001b[0m\u001b[1;33m,\u001b[0m \u001b[0mfigsize\u001b[0m \u001b[1;33m=\u001b[0m \u001b[1;33m(\u001b[0m\u001b[1;36m15\u001b[0m\u001b[1;33m,\u001b[0m \u001b[1;36m10\u001b[0m\u001b[1;33m)\u001b[0m\u001b[1;33m,\u001b[0m \u001b[0ms\u001b[0m \u001b[1;33m=\u001b[0m \u001b[1;36m1\u001b[0m\u001b[1;33m,\u001b[0m \u001b[0mcolor\u001b[0m \u001b[1;33m=\u001b[0m \u001b[1;34m'black'\u001b[0m\u001b[1;33m)\u001b[0m\u001b[1;33m\u001b[0m\u001b[1;33m\u001b[0m\u001b[0m\n\u001b[0m",
      "\u001b[1;31mAttributeError\u001b[0m: module 'matplotlib.pyplot' has no attribute 'scatter_matrix'"
     ]
    }
   ],
   "source": [
    "# pd.plotting.scatter_matrix(mesh, alpha = 1, figsize = (15, 10), s = 1, color = 'black')\n",
    "plt.scatter_matrix(mesh, alpha = 1, figsize = (15, 10), s = 1, color = 'black')"
   ]
  },
  {
   "cell_type": "markdown",
   "metadata": {},
   "source": [
    "Find dependent data"
   ]
  },
  {
   "cell_type": "code",
   "execution_count": 7,
   "metadata": {},
   "outputs": [
    {
     "data": {
      "text/html": [
       "<div>\n",
       "<style scoped>\n",
       "    .dataframe tbody tr th:only-of-type {\n",
       "        vertical-align: middle;\n",
       "    }\n",
       "\n",
       "    .dataframe tbody tr th {\n",
       "        vertical-align: top;\n",
       "    }\n",
       "\n",
       "    .dataframe thead th {\n",
       "        text-align: right;\n",
       "    }\n",
       "</style>\n",
       "<table border=\"1\" class=\"dataframe\">\n",
       "  <thead>\n",
       "    <tr style=\"text-align: right;\">\n",
       "      <th></th>\n",
       "      <th>intensity</th>\n",
       "      <th>two_theta_deg</th>\n",
       "      <th>theta_deg</th>\n",
       "      <th>theta_rad</th>\n",
       "      <th>sintheta</th>\n",
       "      <th>two_sin_theta</th>\n",
       "      <th>d-spacing</th>\n",
       "      <th>sin_squared_theta</th>\n",
       "    </tr>\n",
       "  </thead>\n",
       "  <tbody>\n",
       "    <tr>\n",
       "      <th>intensity</th>\n",
       "      <td>1.000000</td>\n",
       "      <td>-0.216360</td>\n",
       "      <td>-0.216360</td>\n",
       "      <td>-0.216360</td>\n",
       "      <td>-0.280482</td>\n",
       "      <td>-0.280482</td>\n",
       "      <td>0.496481</td>\n",
       "      <td>-0.127535</td>\n",
       "    </tr>\n",
       "    <tr>\n",
       "      <th>two_theta_deg</th>\n",
       "      <td>-0.216360</td>\n",
       "      <td>1.000000</td>\n",
       "      <td>1.000000</td>\n",
       "      <td>1.000000</td>\n",
       "      <td>0.861654</td>\n",
       "      <td>0.861654</td>\n",
       "      <td>-0.421072</td>\n",
       "      <td>0.825311</td>\n",
       "    </tr>\n",
       "    <tr>\n",
       "      <th>theta_deg</th>\n",
       "      <td>-0.216360</td>\n",
       "      <td>1.000000</td>\n",
       "      <td>1.000000</td>\n",
       "      <td>1.000000</td>\n",
       "      <td>0.861654</td>\n",
       "      <td>0.861654</td>\n",
       "      <td>-0.421072</td>\n",
       "      <td>0.825311</td>\n",
       "    </tr>\n",
       "    <tr>\n",
       "      <th>theta_rad</th>\n",
       "      <td>-0.216360</td>\n",
       "      <td>1.000000</td>\n",
       "      <td>1.000000</td>\n",
       "      <td>1.000000</td>\n",
       "      <td>0.861654</td>\n",
       "      <td>0.861654</td>\n",
       "      <td>-0.421072</td>\n",
       "      <td>0.825311</td>\n",
       "    </tr>\n",
       "    <tr>\n",
       "      <th>sintheta</th>\n",
       "      <td>-0.280482</td>\n",
       "      <td>0.861654</td>\n",
       "      <td>0.861654</td>\n",
       "      <td>0.861654</td>\n",
       "      <td>1.000000</td>\n",
       "      <td>1.000000</td>\n",
       "      <td>-0.537137</td>\n",
       "      <td>0.920878</td>\n",
       "    </tr>\n",
       "    <tr>\n",
       "      <th>two_sin_theta</th>\n",
       "      <td>-0.280482</td>\n",
       "      <td>0.861654</td>\n",
       "      <td>0.861654</td>\n",
       "      <td>0.861654</td>\n",
       "      <td>1.000000</td>\n",
       "      <td>1.000000</td>\n",
       "      <td>-0.537137</td>\n",
       "      <td>0.920878</td>\n",
       "    </tr>\n",
       "    <tr>\n",
       "      <th>d-spacing</th>\n",
       "      <td>0.496481</td>\n",
       "      <td>-0.421072</td>\n",
       "      <td>-0.421072</td>\n",
       "      <td>-0.421072</td>\n",
       "      <td>-0.537137</td>\n",
       "      <td>-0.537137</td>\n",
       "      <td>1.000000</td>\n",
       "      <td>-0.309319</td>\n",
       "    </tr>\n",
       "    <tr>\n",
       "      <th>sin_squared_theta</th>\n",
       "      <td>-0.127535</td>\n",
       "      <td>0.825311</td>\n",
       "      <td>0.825311</td>\n",
       "      <td>0.825311</td>\n",
       "      <td>0.920878</td>\n",
       "      <td>0.920878</td>\n",
       "      <td>-0.309319</td>\n",
       "      <td>1.000000</td>\n",
       "    </tr>\n",
       "  </tbody>\n",
       "</table>\n",
       "</div>"
      ],
      "text/plain": [
       "                   intensity  two_theta_deg  theta_deg  theta_rad  sintheta  \\\n",
       "intensity           1.000000      -0.216360  -0.216360  -0.216360 -0.280482   \n",
       "two_theta_deg      -0.216360       1.000000   1.000000   1.000000  0.861654   \n",
       "theta_deg          -0.216360       1.000000   1.000000   1.000000  0.861654   \n",
       "theta_rad          -0.216360       1.000000   1.000000   1.000000  0.861654   \n",
       "sintheta           -0.280482       0.861654   0.861654   0.861654  1.000000   \n",
       "two_sin_theta      -0.280482       0.861654   0.861654   0.861654  1.000000   \n",
       "d-spacing           0.496481      -0.421072  -0.421072  -0.421072 -0.537137   \n",
       "sin_squared_theta  -0.127535       0.825311   0.825311   0.825311  0.920878   \n",
       "\n",
       "                   two_sin_theta  d-spacing  sin_squared_theta  \n",
       "intensity              -0.280482   0.496481          -0.127535  \n",
       "two_theta_deg           0.861654  -0.421072           0.825311  \n",
       "theta_deg               0.861654  -0.421072           0.825311  \n",
       "theta_rad               0.861654  -0.421072           0.825311  \n",
       "sintheta                1.000000  -0.537137           0.920878  \n",
       "two_sin_theta           1.000000  -0.537137           0.920878  \n",
       "d-spacing              -0.537137   1.000000          -0.309319  \n",
       "sin_squared_theta       0.920878  -0.309319           1.000000  "
      ]
     },
     "execution_count": 7,
     "metadata": {},
     "output_type": "execute_result"
    }
   ],
   "source": [
    "# columns correlation\n",
    "mesh.corr()"
   ]
  },
  {
   "cell_type": "code",
   "execution_count": 8,
   "metadata": {},
   "outputs": [
    {
     "data": {
      "text/plain": [
       "sintheta       two_sin_theta        1.000000\n",
       "two_theta_deg  theta_rad            1.000000\n",
       "sintheta       sin_squared_theta    0.920878\n",
       "two_sin_theta  sin_squared_theta    0.920878\n",
       "two_theta_deg  sintheta             0.861654\n",
       "theta_rad      sintheta             0.861654\n",
       "two_theta_deg  two_sin_theta        0.861654\n",
       "theta_rad      two_sin_theta        0.861654\n",
       "               sin_squared_theta    0.825311\n",
       "two_theta_deg  sin_squared_theta    0.825311\n",
       "dtype: float64"
      ]
     },
     "execution_count": 8,
     "metadata": {},
     "output_type": "execute_result"
    }
   ],
   "source": [
    "#find huge correlations within data (>0.8)\n",
    "corr_series=mesh.corr().abs().unstack().drop_duplicates().sort_values(ascending = False)\n",
    "corr_series[(corr_series<1.0)&(corr_series>0.8)]"
   ]
  },
  {
   "cell_type": "markdown",
   "metadata": {},
   "source": [
    "Drop dependent columns that depend on theta_deg"
   ]
  },
  {
   "cell_type": "code",
   "execution_count": 9,
   "metadata": {},
   "outputs": [
    {
     "data": {
      "text/html": [
       "<div>\n",
       "<style scoped>\n",
       "    .dataframe tbody tr th:only-of-type {\n",
       "        vertical-align: middle;\n",
       "    }\n",
       "\n",
       "    .dataframe tbody tr th {\n",
       "        vertical-align: top;\n",
       "    }\n",
       "\n",
       "    .dataframe thead th {\n",
       "        text-align: right;\n",
       "    }\n",
       "</style>\n",
       "<table border=\"1\" class=\"dataframe\">\n",
       "  <thead>\n",
       "    <tr style=\"text-align: right;\">\n",
       "      <th></th>\n",
       "      <th>intensity</th>\n",
       "      <th>theta_deg</th>\n",
       "      <th>d-spacing</th>\n",
       "    </tr>\n",
       "  </thead>\n",
       "  <tbody>\n",
       "    <tr>\n",
       "      <th>0</th>\n",
       "      <td>5.0</td>\n",
       "      <td>15.000</td>\n",
       "      <td>2.975052</td>\n",
       "    </tr>\n",
       "    <tr>\n",
       "      <th>1</th>\n",
       "      <td>5.1</td>\n",
       "      <td>16.250</td>\n",
       "      <td>2.751680</td>\n",
       "    </tr>\n",
       "    <tr>\n",
       "      <th>2</th>\n",
       "      <td>5.2</td>\n",
       "      <td>14.625</td>\n",
       "      <td>3.049607</td>\n",
       "    </tr>\n",
       "    <tr>\n",
       "      <th>3</th>\n",
       "      <td>5.3</td>\n",
       "      <td>16.875</td>\n",
       "      <td>2.652569</td>\n",
       "    </tr>\n",
       "    <tr>\n",
       "      <th>4</th>\n",
       "      <td>5.4</td>\n",
       "      <td>17.875</td>\n",
       "      <td>2.508622</td>\n",
       "    </tr>\n",
       "  </tbody>\n",
       "</table>\n",
       "</div>"
      ],
      "text/plain": [
       "   intensity  theta_deg  d-spacing\n",
       "0        5.0     15.000   2.975052\n",
       "1        5.1     16.250   2.751680\n",
       "2        5.2     14.625   3.049607\n",
       "3        5.3     16.875   2.652569\n",
       "4        5.4     17.875   2.508622"
      ]
     },
     "execution_count": 9,
     "metadata": {},
     "output_type": "execute_result"
    }
   ],
   "source": [
    "source = mesh\n",
    "mesh = source[['intensity', 'theta_deg', 'd-spacing']]\n",
    "mesh.head()"
   ]
  },
  {
   "cell_type": "code",
   "execution_count": 10,
   "metadata": {},
   "outputs": [
    {
     "data": {
      "text/html": [
       "<div>\n",
       "<style scoped>\n",
       "    .dataframe tbody tr th:only-of-type {\n",
       "        vertical-align: middle;\n",
       "    }\n",
       "\n",
       "    .dataframe tbody tr th {\n",
       "        vertical-align: top;\n",
       "    }\n",
       "\n",
       "    .dataframe thead th {\n",
       "        text-align: right;\n",
       "    }\n",
       "</style>\n",
       "<table border=\"1\" class=\"dataframe\">\n",
       "  <thead>\n",
       "    <tr style=\"text-align: right;\">\n",
       "      <th></th>\n",
       "      <th>intensity</th>\n",
       "      <th>theta_deg</th>\n",
       "      <th>d-spacing</th>\n",
       "    </tr>\n",
       "  </thead>\n",
       "  <tbody>\n",
       "    <tr>\n",
       "      <th>intensity</th>\n",
       "      <td>1.000000</td>\n",
       "      <td>-0.216360</td>\n",
       "      <td>0.496481</td>\n",
       "    </tr>\n",
       "    <tr>\n",
       "      <th>theta_deg</th>\n",
       "      <td>-0.216360</td>\n",
       "      <td>1.000000</td>\n",
       "      <td>-0.421072</td>\n",
       "    </tr>\n",
       "    <tr>\n",
       "      <th>d-spacing</th>\n",
       "      <td>0.496481</td>\n",
       "      <td>-0.421072</td>\n",
       "      <td>1.000000</td>\n",
       "    </tr>\n",
       "  </tbody>\n",
       "</table>\n",
       "</div>"
      ],
      "text/plain": [
       "           intensity  theta_deg  d-spacing\n",
       "intensity   1.000000  -0.216360   0.496481\n",
       "theta_deg  -0.216360   1.000000  -0.421072\n",
       "d-spacing   0.496481  -0.421072   1.000000"
      ]
     },
     "metadata": {},
     "output_type": "display_data"
    }
   ],
   "source": [
    "#check correlations\n",
    "display(mesh.corr())"
   ]
  },
  {
   "cell_type": "code",
   "execution_count": 11,
   "metadata": {},
   "outputs": [
    {
     "name": "stdout",
     "output_type": "stream",
     "text": [
      "intensity : min = 5.0, max = 100.0\n",
      "theta_deg : min = 0.5, max = 156.375\n",
      "d-spacing : min = 0.794886645, max = 88.23662038\n",
      "\n",
      "index = RangeIndex(start=0, stop=951, step=1)\n"
     ]
    }
   ],
   "source": [
    "# min/max charasteristics for columns\n",
    "for column in mesh.columns:\n",
    "    print(f\"{column} : min = {mesh[column].min()}, max = {mesh[column].max()}\")\n",
    "print(f\"\\nindex = {mesh.index}\")"
   ]
  },
  {
   "cell_type": "markdown",
   "metadata": {},
   "source": [
    "intensity has data with uniform distribution (from 5.0 to 100 with step 0.1)"
   ]
  },
  {
   "cell_type": "code",
   "execution_count": 12,
   "metadata": {},
   "outputs": [
    {
     "data": {
      "text/plain": [
       "<matplotlib.axes._subplots.AxesSubplot at 0x29470879940>"
      ]
     },
     "metadata": {},
     "output_type": "display_data"
    },
    {
     "data": {
      "image/png": "[encoded data removed]",
      "text/plain": [
       "<Figure size 432x288 with 1 Axes>"
      ]
     },
     "metadata": {
      "needs_background": "light"
     },
     "output_type": "display_data"
    }
   ],
   "source": [
    "display(mesh['intensity'].plot.hist(bins = 20))"
   ]
  },
  {
   "cell_type": "code",
   "execution_count": 13,
   "metadata": {},
   "outputs": [
    {
     "data": {
      "image/png": "[encoded data removed]",
      "text/plain": [
       "<Figure size 432x288 with 1 Axes>"
      ]
     },
     "metadata": {
      "needs_background": "light"
     },
     "output_type": "display_data"
    }
   ],
   "source": [
    "#Distribution intensity on theta_deg\n",
    "\n",
    "plt.scatter(y = mesh['theta_deg'],x = mesh['intensity'], label = 'Distribution theta_deg on intensity', c  = 'black', s = 0.5)\n",
    "plt.ylabel('theta_deg')\n",
    "plt.xlabel('intensity')\n",
    "plt.legend(loc='upper right')\n",
    "plt.grid()\n",
    "plt.show()"
   ]
  },
  {
   "cell_type": "markdown",
   "metadata": {},
   "source": [
    "With some intensity theta_deg has big spread"
   ]
  },
  {
   "cell_type": "code",
   "execution_count": 14,
   "metadata": {},
   "outputs": [
    {
     "data": {
      "image/png": "[encoded data removed]",
      "text/plain": [
       "<Figure size 432x288 with 1 Axes>"
      ]
     },
     "metadata": {
      "needs_background": "light"
     },
     "output_type": "display_data"
    }
   ],
   "source": [
    "#Distribution d-spacing on theta_deg\n",
    "plt.scatter(y = mesh['theta_deg'],x = mesh['d-spacing'], label = 'Distribution theta_deg on d-spacing', c  = 'black', s = 0.5)\n",
    "plt.ylabel('theta_deg')\n",
    "plt.xlabel('d-spacing')\n",
    "plt.legend(loc='upper right')\n",
    "plt.grid()\n",
    "plt.show()"
   ]
  },
  {
   "cell_type": "markdown",
   "metadata": {},
   "source": [
    "Let see sin(theta_deg) against theta_deg parameter"
   ]
  },
  {
   "cell_type": "code",
   "execution_count": 15,
   "metadata": {},
   "outputs": [
    {
     "data": {
      "text/html": [
       "<div>\n",
       "<style scoped>\n",
       "    .dataframe tbody tr th:only-of-type {\n",
       "        vertical-align: middle;\n",
       "    }\n",
       "\n",
       "    .dataframe tbody tr th {\n",
       "        vertical-align: top;\n",
       "    }\n",
       "\n",
       "    .dataframe thead th {\n",
       "        text-align: right;\n",
       "    }\n",
       "</style>\n",
       "<table border=\"1\" class=\"dataframe\">\n",
       "  <thead>\n",
       "    <tr style=\"text-align: right;\">\n",
       "      <th></th>\n",
       "      <th>intensity</th>\n",
       "      <th>d-spacing</th>\n",
       "      <th>sintheta</th>\n",
       "      <th>theta_deg</th>\n",
       "    </tr>\n",
       "  </thead>\n",
       "  <tbody>\n",
       "    <tr>\n",
       "      <th>0</th>\n",
       "      <td>5.0</td>\n",
       "      <td>2.975052</td>\n",
       "      <td>0.258819</td>\n",
       "      <td>15.000</td>\n",
       "    </tr>\n",
       "    <tr>\n",
       "      <th>1</th>\n",
       "      <td>5.1</td>\n",
       "      <td>2.751680</td>\n",
       "      <td>0.279829</td>\n",
       "      <td>16.250</td>\n",
       "    </tr>\n",
       "    <tr>\n",
       "      <th>2</th>\n",
       "      <td>5.2</td>\n",
       "      <td>3.049607</td>\n",
       "      <td>0.252492</td>\n",
       "      <td>14.625</td>\n",
       "    </tr>\n",
       "    <tr>\n",
       "      <th>3</th>\n",
       "      <td>5.3</td>\n",
       "      <td>2.652569</td>\n",
       "      <td>0.290285</td>\n",
       "      <td>16.875</td>\n",
       "    </tr>\n",
       "    <tr>\n",
       "      <th>4</th>\n",
       "      <td>5.4</td>\n",
       "      <td>2.508622</td>\n",
       "      <td>0.306941</td>\n",
       "      <td>17.875</td>\n",
       "    </tr>\n",
       "  </tbody>\n",
       "</table>\n",
       "</div>"
      ],
      "text/plain": [
       "   intensity  d-spacing  sintheta  theta_deg\n",
       "0        5.0   2.975052  0.258819     15.000\n",
       "1        5.1   2.751680  0.279829     16.250\n",
       "2        5.2   3.049607  0.252492     14.625\n",
       "3        5.3   2.652569  0.290285     16.875\n",
       "4        5.4   2.508622  0.306941     17.875"
      ]
     },
     "execution_count": 15,
     "metadata": {},
     "output_type": "execute_result"
    }
   ],
   "source": [
    "#to use correctly sin : theta_deg < 90\n",
    "data = source[source['theta_deg']<90][['intensity', 'd-spacing', 'sintheta', 'theta_deg']]\n",
    "data.head()"
   ]
  },
  {
   "cell_type": "code",
   "execution_count": 16,
   "metadata": {},
   "outputs": [
    {
     "data": {
      "text/plain": [
       "<matplotlib.axes._subplots.AxesSubplot at 0x29470649fd0>"
      ]
     },
     "execution_count": 16,
     "metadata": {},
     "output_type": "execute_result"
    },
    {
     "data": {
      "image/png": "[encoded data removed]",
      "text/plain": [
       "<Figure size 432x288 with 1 Axes>"
      ]
     },
     "metadata": {
      "needs_background": "light"
     },
     "output_type": "display_data"
    }
   ],
   "source": [
    "data.plot.scatter(x ='intensity', y = 'sintheta', s = .5, color = 'black')"
   ]
  },
  {
   "cell_type": "code",
   "execution_count": 17,
   "metadata": {},
   "outputs": [
    {
     "data": {
      "text/plain": [
       "<matplotlib.axes._subplots.AxesSubplot at 0x294706be8d0>"
      ]
     },
     "execution_count": 17,
     "metadata": {},
     "output_type": "execute_result"
    },
    {
     "data": {
      "image/png": "[encoded data removed]",
      "text/plain": [
       "<Figure size 432x288 with 1 Axes>"
      ]
     },
     "metadata": {
      "needs_background": "light"
     },
     "output_type": "display_data"
    }
   ],
   "source": [
    "sintheta = data[data['sintheta']>0.3]\n",
    "sintheta.plot.scatter(x ='intensity', y = 'sintheta', color = 'black', s=0.5)"
   ]
  },
  {
   "cell_type": "code",
   "execution_count": 18,
   "metadata": {},
   "outputs": [
    {
     "data": {
      "text/plain": [
       "<matplotlib.axes._subplots.AxesSubplot at 0x29470725160>"
      ]
     },
     "execution_count": 18,
     "metadata": {},
     "output_type": "execute_result"
    },
    {
     "data": {
      "image/png": "[encoded data removed]",
      "text/plain": [
       "<Figure size 432x288 with 1 Axes>"
      ]
     },
     "metadata": {
      "needs_background": "light"
     },
     "output_type": "display_data"
    }
   ],
   "source": [
    "data.plot.scatter(x ='d-spacing', y = 'sintheta', s = .5, color = 'black')"
   ]
  },
  {
   "cell_type": "markdown",
   "metadata": {},
   "source": [
    "Study dependency d-spacing on theta_deg. Suppose d-spacing ~ 1/theta_deg"
   ]
  },
  {
   "cell_type": "code",
   "execution_count": 19,
   "metadata": {},
   "outputs": [
    {
     "data": {
      "text/html": [
       "<div>\n",
       "<style scoped>\n",
       "    .dataframe tbody tr th:only-of-type {\n",
       "        vertical-align: middle;\n",
       "    }\n",
       "\n",
       "    .dataframe tbody tr th {\n",
       "        vertical-align: top;\n",
       "    }\n",
       "\n",
       "    .dataframe thead th {\n",
       "        text-align: right;\n",
       "    }\n",
       "</style>\n",
       "<table border=\"1\" class=\"dataframe\">\n",
       "  <thead>\n",
       "    <tr style=\"text-align: right;\">\n",
       "      <th></th>\n",
       "      <th>intensity</th>\n",
       "      <th>d-spacing</th>\n",
       "      <th>sintheta</th>\n",
       "      <th>theta_deg</th>\n",
       "      <th>1/sintheta</th>\n",
       "      <th>1/theta_deg</th>\n",
       "    </tr>\n",
       "  </thead>\n",
       "  <tbody>\n",
       "    <tr>\n",
       "      <th>0</th>\n",
       "      <td>5.0</td>\n",
       "      <td>2.975052</td>\n",
       "      <td>0.258819</td>\n",
       "      <td>15.000</td>\n",
       "      <td>3.863703</td>\n",
       "      <td>0.066667</td>\n",
       "    </tr>\n",
       "    <tr>\n",
       "      <th>1</th>\n",
       "      <td>5.1</td>\n",
       "      <td>2.751680</td>\n",
       "      <td>0.279829</td>\n",
       "      <td>16.250</td>\n",
       "      <td>3.573611</td>\n",
       "      <td>0.061538</td>\n",
       "    </tr>\n",
       "    <tr>\n",
       "      <th>2</th>\n",
       "      <td>5.2</td>\n",
       "      <td>3.049607</td>\n",
       "      <td>0.252492</td>\n",
       "      <td>14.625</td>\n",
       "      <td>3.960528</td>\n",
       "      <td>0.068376</td>\n",
       "    </tr>\n",
       "    <tr>\n",
       "      <th>3</th>\n",
       "      <td>5.3</td>\n",
       "      <td>2.652569</td>\n",
       "      <td>0.290285</td>\n",
       "      <td>16.875</td>\n",
       "      <td>3.444894</td>\n",
       "      <td>0.059259</td>\n",
       "    </tr>\n",
       "    <tr>\n",
       "      <th>4</th>\n",
       "      <td>5.4</td>\n",
       "      <td>2.508622</td>\n",
       "      <td>0.306941</td>\n",
       "      <td>17.875</td>\n",
       "      <td>3.257951</td>\n",
       "      <td>0.055944</td>\n",
       "    </tr>\n",
       "  </tbody>\n",
       "</table>\n",
       "</div>"
      ],
      "text/plain": [
       "   intensity  d-spacing  sintheta  theta_deg  1/sintheta  1/theta_deg\n",
       "0        5.0   2.975052  0.258819     15.000    3.863703     0.066667\n",
       "1        5.1   2.751680  0.279829     16.250    3.573611     0.061538\n",
       "2        5.2   3.049607  0.252492     14.625    3.960528     0.068376\n",
       "3        5.3   2.652569  0.290285     16.875    3.444894     0.059259\n",
       "4        5.4   2.508622  0.306941     17.875    3.257951     0.055944"
      ]
     },
     "execution_count": 19,
     "metadata": {},
     "output_type": "execute_result"
    }
   ],
   "source": [
    "data['1/sintheta'] = 1/data['sintheta']\n",
    "data['1/theta_deg'] = 1/data['theta_deg']\n",
    "data.head()"
   ]
  },
  {
   "cell_type": "code",
   "execution_count": 20,
   "metadata": {},
   "outputs": [
    {
     "data": {
      "text/plain": [
       "<matplotlib.axes._subplots.AxesSubplot at 0x2947062fd68>"
      ]
     },
     "execution_count": 20,
     "metadata": {},
     "output_type": "execute_result"
    },
    {
     "data": {
      "image/png": "[encoded data removed]",
      "text/plain": [
       "<Figure size 432x288 with 1 Axes>"
      ]
     },
     "metadata": {
      "needs_background": "light"
     },
     "output_type": "display_data"
    }
   ],
   "source": [
    "data.plot.scatter(x ='d-spacing', y = '1/sintheta', s = .5, color = 'black')"
   ]
  },
  {
   "cell_type": "code",
   "execution_count": 21,
   "metadata": {},
   "outputs": [
    {
     "name": "stdout",
     "output_type": "stream",
     "text": [
      "Ridge Model Coefs: 1.2986876524796902 0.00017796639636102896\n",
      "The score is:  0.9999999998894284\n"
     ]
    }
   ],
   "source": [
    "import sklearn.linear_model\n",
    "# X = data['d-spacing']\n",
    "# Y = data['1/sintheta']\n",
    "n = len(data['d-spacing'])\n",
    "X = data['d-spacing'].to_numpy().reshape((n,1))\n",
    "Y = data['1/sintheta'].to_numpy().reshape((n,1))\n",
    "\n",
    "# Ridge model\n",
    "ridge = sklearn.linear_model.Ridge()\n",
    "# train the model\n",
    "ridge.fit(X, Y)\n",
    "print(\"Ridge Model Coefs:\",ridge.coef_[0][0],ridge.intercept_[0])\n",
    "print(\"The score is: \",ridge.score(X,Y))"
   ]
  },
  {
   "cell_type": "markdown",
   "metadata": {},
   "source": [
    "Dependecy is like sintheta =~ 1/(1.3*d-spacing) or 0.77 = d-spacing * sintheta"
   ]
  },
  {
   "cell_type": "markdown",
   "metadata": {},
   "source": [
    "Study d-spacing on intencity"
   ]
  },
  {
   "cell_type": "code",
   "execution_count": 22,
   "metadata": {},
   "outputs": [
    {
     "data": {
      "image/png": "[encoded data removed]",
      "text/plain": [
       "<Figure size 432x288 with 1 Axes>"
      ]
     },
     "metadata": {
      "needs_background": "light"
     },
     "output_type": "display_data"
    }
   ],
   "source": [
    "data = source\n",
    "#Distribution d-spacing on theta_deg\n",
    "plt.scatter(x = mesh['intensity'],\n",
    "            y = mesh['d-spacing'], \n",
    "            label = 'Distribution d-spacing on intensity', \n",
    "            c  = 'black', \n",
    "            s = 0.5)\n",
    "plt.xlabel('intensity')\n",
    "plt.ylabel('d-spacing')\n",
    "plt.legend(loc='upper left')\n",
    "plt.grid()\n",
    "plt.show()"
   ]
  },
  {
   "cell_type": "markdown",
   "metadata": {},
   "source": [
    "As can see d-spacing has descrete values\n",
    "Let's find them. Find minimum intencities to reach some levels of d-spacing."
   ]
  },
  {
   "cell_type": "code",
   "execution_count": 23,
   "metadata": {},
   "outputs": [
    {
     "data": {
      "text/html": [
       "<div>\n",
       "<style scoped>\n",
       "    .dataframe tbody tr th:only-of-type {\n",
       "        vertical-align: middle;\n",
       "    }\n",
       "\n",
       "    .dataframe tbody tr th {\n",
       "        vertical-align: top;\n",
       "    }\n",
       "\n",
       "    .dataframe thead th {\n",
       "        text-align: right;\n",
       "    }\n",
       "</style>\n",
       "<table border=\"1\" class=\"dataframe\">\n",
       "  <thead>\n",
       "    <tr style=\"text-align: right;\">\n",
       "      <th></th>\n",
       "      <th>d-spacing</th>\n",
       "      <th>intensity</th>\n",
       "    </tr>\n",
       "  </thead>\n",
       "  <tbody>\n",
       "    <tr>\n",
       "      <th>934</th>\n",
       "      <td>88.236620</td>\n",
       "      <td>98.4</td>\n",
       "    </tr>\n",
       "    <tr>\n",
       "      <th>803</th>\n",
       "      <td>88.236620</td>\n",
       "      <td>85.3</td>\n",
       "    </tr>\n",
       "    <tr>\n",
       "      <th>927</th>\n",
       "      <td>58.825347</td>\n",
       "      <td>97.7</td>\n",
       "    </tr>\n",
       "    <tr>\n",
       "      <th>907</th>\n",
       "      <td>58.825347</td>\n",
       "      <td>95.7</td>\n",
       "    </tr>\n",
       "    <tr>\n",
       "      <th>805</th>\n",
       "      <td>58.825347</td>\n",
       "      <td>85.5</td>\n",
       "    </tr>\n",
       "  </tbody>\n",
       "</table>\n",
       "</div>"
      ],
      "text/plain": [
       "     d-spacing  intensity\n",
       "934  88.236620       98.4\n",
       "803  88.236620       85.3\n",
       "927  58.825347       97.7\n",
       "907  58.825347       95.7\n",
       "805  58.825347       85.5"
      ]
     },
     "execution_count": 23,
     "metadata": {},
     "output_type": "execute_result"
    }
   ],
   "source": [
    "mesh = mesh[['d-spacing','intensity']].sort_values(['d-spacing','intensity'], ascending = False)\n",
    "mesh.head(5)"
   ]
  },
  {
   "cell_type": "code",
   "execution_count": 24,
   "metadata": {},
   "outputs": [
    {
     "name": "stdout",
     "output_type": "stream",
     "text": [
      "[88.23662038, 88.23662038, 58.82534688, 58.82534688, 58.82534688]\n",
      "[98.4, 85.3, 97.7, 95.7, 85.5]\n",
      "[88.23662038, 58.82534688, 58.82534688, 44.11999014, 44.11999014]\n",
      "[85.3, 85.3, 77.6, 77.6, 70.2]\n"
     ]
    }
   ],
   "source": [
    "d_spacing = mesh['d-spacing'].to_list()\n",
    "intensity = mesh['intensity'].to_list()\n",
    "print(d_spacing[:5])\n",
    "print(intensity[:5])\n",
    "\n",
    "def find_edge(d_spacing,intensity):\n",
    "    data_d_spacing = [d_spacing[0]]\n",
    "    data_intensity = [intensity[0]]\n",
    "    j = 0\n",
    "    for i in range(len(d_spacing)):\n",
    "        if(i>0):\n",
    "            if (d_spacing[i]<data_d_spacing[j])& (intensity[i]<=data_intensity[j]):\n",
    "                j=j+1\n",
    "    #             add value\n",
    "                data_d_spacing.append(d_spacing[i])\n",
    "                data_intensity.append(intensity[i]) \n",
    "            if(d_spacing[i]==data_d_spacing[j]):\n",
    "                if (intensity[i]<data_intensity[j]):\n",
    "                    data_intensity[j] = intensity[i]\n",
    "    return (data_d_spacing, data_intensity)\n",
    "\n",
    "data_d_spacing , data_intensity = find_edge(d_spacing,intensity)\n",
    "\n",
    "def add_step(x, y):\n",
    "    x_ = [x[0]]\n",
    "    y_= [y[0]]\n",
    "    j = 0\n",
    "    for i in range(len(x)):\n",
    "        if i>0:\n",
    "#             step\n",
    "            x_.append(x[i])\n",
    "            y_.append(y[i-1])\n",
    "#             value\n",
    "            x_.append(x[i])\n",
    "            y_.append(y[i])\n",
    "    return(x_,y_)\n",
    "\n",
    "data_d_spacing , data_intensity = add_step(data_d_spacing , data_intensity)\n",
    "\n",
    "print(data_d_spacing[:5])\n",
    "print(data_intensity[:5])"
   ]
  },
  {
   "cell_type": "code",
   "execution_count": 25,
   "metadata": {
    "scrolled": true
   },
   "outputs": [
    {
     "data": {
      "text/html": [
       "<div>\n",
       "<style scoped>\n",
       "    .dataframe tbody tr th:only-of-type {\n",
       "        vertical-align: middle;\n",
       "    }\n",
       "\n",
       "    .dataframe tbody tr th {\n",
       "        vertical-align: top;\n",
       "    }\n",
       "\n",
       "    .dataframe thead th {\n",
       "        text-align: right;\n",
       "    }\n",
       "</style>\n",
       "<table border=\"1\" class=\"dataframe\">\n",
       "  <thead>\n",
       "    <tr style=\"text-align: right;\">\n",
       "      <th></th>\n",
       "      <th>d-spacing</th>\n",
       "      <th>intensity_x</th>\n",
       "      <th>intensity_y</th>\n",
       "    </tr>\n",
       "  </thead>\n",
       "  <tbody>\n",
       "    <tr>\n",
       "      <th>0</th>\n",
       "      <td>88.236620</td>\n",
       "      <td>98.4</td>\n",
       "      <td>85.3</td>\n",
       "    </tr>\n",
       "    <tr>\n",
       "      <th>1</th>\n",
       "      <td>88.236620</td>\n",
       "      <td>85.3</td>\n",
       "      <td>85.3</td>\n",
       "    </tr>\n",
       "    <tr>\n",
       "      <th>2</th>\n",
       "      <td>58.825347</td>\n",
       "      <td>97.7</td>\n",
       "      <td>85.3</td>\n",
       "    </tr>\n",
       "    <tr>\n",
       "      <th>3</th>\n",
       "      <td>58.825347</td>\n",
       "      <td>97.7</td>\n",
       "      <td>77.6</td>\n",
       "    </tr>\n",
       "    <tr>\n",
       "      <th>4</th>\n",
       "      <td>58.825347</td>\n",
       "      <td>95.7</td>\n",
       "      <td>85.3</td>\n",
       "    </tr>\n",
       "  </tbody>\n",
       "</table>\n",
       "</div>"
      ],
      "text/plain": [
       "   d-spacing  intensity_x  intensity_y\n",
       "0  88.236620         98.4         85.3\n",
       "1  88.236620         85.3         85.3\n",
       "2  58.825347         97.7         85.3\n",
       "3  58.825347         97.7         77.6\n",
       "4  58.825347         95.7         85.3"
      ]
     },
     "execution_count": 25,
     "metadata": {},
     "output_type": "execute_result"
    }
   ],
   "source": [
    "data =pd.DataFrame({'d-spacing':data_d_spacing,'intensity':data_intensity})\n",
    "data = mesh.merge(right = data, on = 'd-spacing')\n",
    "data.head()\n"
   ]
  },
  {
   "cell_type": "markdown",
   "metadata": {},
   "source": [
    "add point to levels wths high results"
   ]
  },
  {
   "cell_type": "code",
   "execution_count": 26,
   "metadata": {
    "scrolled": false
   },
   "outputs": [],
   "source": [
    "x = data['d-spacing'].to_list()\n",
    "y = data['intensity_x'].to_list()\n",
    "z = data['intensity_y'].to_list()\n",
    "x.insert(0,88.236620)\n",
    "y.insert(0,98.4)\n",
    "z.insert(0,98.4)\n",
    "data = pd.DataFrame({'d-spacing':x, 'intensity_x':y, 'intensity_y':z})"
   ]
  },
  {
   "cell_type": "markdown",
   "metadata": {},
   "source": [
    "See minimum levels of intensity to reach d-spacing levels. Both figures on one plot."
   ]
  },
  {
   "cell_type": "code",
   "execution_count": 27,
   "metadata": {},
   "outputs": [
    {
     "data": {
      "image/png": "[encoded data removed]",
      "text/plain": [
       "<Figure size 432x288 with 1 Axes>"
      ]
     },
     "metadata": {
      "needs_background": "light"
     },
     "output_type": "display_data"
    }
   ],
   "source": [
    "plt.scatter( data['intensity_x'],data['d-spacing'], s = 1, color = 'red' )\n",
    "plt.plot( data['intensity_y'],data['d-spacing'], color = 'black',  linewidth = 0.5)\n",
    "plt.xlabel('intensity')\n",
    "plt.ylabel('d-spacing')\n",
    "plt.grid()\n",
    "plt.legend(['d-spacing levels'],loc = 'upper left')\n",
    "plt.show()"
   ]
  },
  {
   "cell_type": "code",
   "execution_count": 28,
   "metadata": {},
   "outputs": [
    {
     "name": "stdout",
     "output_type": "stream",
     "text": [
      "d-spacing has * distribution.\n",
      "d-spacing : min = 0.794886645, max = 88.23662038\n"
     ]
    },
    {
     "data": {
      "text/plain": [
       "<matplotlib.axes._subplots.AxesSubplot at 0x294719f0550>"
      ]
     },
     "execution_count": 28,
     "metadata": {},
     "output_type": "execute_result"
    },
    {
     "data": {
      "image/png": "[encoded data removed]",
      "text/plain": [
       "<Figure size 1440x360 with 1 Axes>"
      ]
     },
     "metadata": {
      "needs_background": "light"
     },
     "output_type": "display_data"
    }
   ],
   "source": [
    "### histograms\n",
    "column = 'd-spacing'\n",
    "print(f\"{column} has * distribution.\")\n",
    "print(f\"{column} : min = {mesh[column].min()}, max = {mesh[column].max()}\")\n",
    "mesh[column].plot.hist(bins = len(data['d-spacing']) , color = 'black' , figsize = (20, 5), xlim = (-5, 90))"
   ]
  },
  {
   "cell_type": "code",
   "execution_count": 29,
   "metadata": {},
   "outputs": [
    {
     "data": {
      "text/plain": [
       "<matplotlib.axes._subplots.AxesSubplot at 0x29471a1b748>"
      ]
     },
     "execution_count": 29,
     "metadata": {},
     "output_type": "execute_result"
    },
    {
     "data": {
      "image/png": "[encoded data removed]",
      "text/plain": [
       "<Figure size 1440x360 with 1 Axes>"
      ]
     },
     "metadata": {
      "needs_background": "light"
     },
     "output_type": "display_data"
    }
   ],
   "source": [
    "mesh['d-spacing'].plot.kde(figsize = (20,5), xlim = (-5, 90), bw_method = 0.8)"
   ]
  },
  {
   "cell_type": "code",
   "execution_count": 30,
   "metadata": {},
   "outputs": [
    {
     "name": "stdout",
     "output_type": "stream",
     "text": [
      "Count of d-spacing is 161\n",
      "156    32.088717\n",
      "157    35.297000\n",
      "158    44.119990\n",
      "159    58.825347\n",
      "160    88.236620\n",
      "Name: d-spacing, dtype: float64\n"
     ]
    },
    {
     "data": {
      "text/plain": [
       "<matplotlib.axes._subplots.AxesSubplot at 0x29471939fd0>"
      ]
     },
     "execution_count": 30,
     "metadata": {},
     "output_type": "execute_result"
    },
    {
     "data": {
      "image/png": "[encoded data removed]",
      "text/plain": [
       "<Figure size 1440x360 with 1 Axes>"
      ]
     },
     "metadata": {
      "needs_background": "light"
     },
     "output_type": "display_data"
    }
   ],
   "source": [
    "#as we can see d-spacing has discrete values\n",
    "d_spacing=mesh['d-spacing'].unique()\n",
    "d_spacing = pd.Series(sorted(d_spacing))\n",
    "d_spacing.name  = 'd-spacing'\n",
    "print(f\"Count of d-spacing is {len(d_spacing)}\")\n",
    "ticks = []\n",
    "for tick in range(0, len(d_spacing), 5):\n",
    "    ticks.append(tick)\n",
    "print(d_spacing.tail())\n",
    "d_spacing.plot.bar( figsize = (20,5 ), grid = True)"
   ]
  },
  {
   "cell_type": "markdown",
   "metadata": {},
   "source": [
    "# Summary:\n",
    "\n",
    "Studied dependencies beetwean columns in data. 3 main columns was chosen (intensity, sintheta, d-spacing).\n",
    "Intencity has uniform distribution. min = 5, max = 100 , step  = 0.1.\n",
    "With rise of intensity 2 parameters (d-spacing, sintheta) are changing.\n",
    "d-spacing has descret values with levels that open with rise of intensity.\n",
    "d-spacing and sintheta have dependency like sintheta = 1/(1.3 d-spacing) or sintheta d-spacing = 0.77."
   ]
  }
 ],
 "metadata": {
  "kernelspec": {
   "display_name": "Python 3",
   "language": "python",
   "name": "python3"
  },
  "language_info": {
   "codemirror_mode": {
    "name": "ipython",
    "version": 3
   },
   "file_extension": ".py",
   "mimetype": "text/x-python",
   "name": "python",
   "nbconvert_exporter": "python",
   "pygments_lexer": "ipython3",
   "version": "3.7.3"
  }
 },
 "nbformat": 4,
 "nbformat_minor": 2
}
